{
 "cells": [
  {
   "cell_type": "markdown",
   "id": "1410dda8",
   "metadata": {},
   "source": [
    "# 比较、掩码和布尔逻辑"
   ]
  },
  {
   "cell_type": "markdown",
   "id": "0d8d7c02",
   "metadata": {},
   "source": [
    "基于某些准则抽取、修改、计数或对一个数组中的值进行其他操作时  \n",
    "可以利用掩码"
   ]
  },
  {
   "cell_type": "markdown",
   "id": "bb8acf12",
   "metadata": {},
   "source": [
    "## 1. 示例：统计下雨天数"
   ]
  },
  {
   "cell_type": "code",
   "execution_count": 1,
   "id": "9b62fed2",
   "metadata": {},
   "outputs": [
    {
     "data": {
      "text/plain": [
       "(365,)"
      ]
     },
     "execution_count": 1,
     "metadata": {},
     "output_type": "execute_result"
    }
   ],
   "source": [
    "import numpy as np \n",
    "import pandas as pd \n",
    "\n",
    "# 利用pandas抽取降雨量，放入一个numpy数组\n",
    "rainfall = pd.read_csv('data/Seattle2014.csv')['PRCP'].values\n",
    "inches = rainfall / 254  # 1/10mm -> inches\n",
    "inches.shape"
   ]
  },
  {
   "cell_type": "code",
   "execution_count": 2,
   "id": "7fd7c723",
   "metadata": {},
   "outputs": [
    {
     "data": {
      "image/png": "[encoded data removed]",
      "text/plain": [
       "<Figure size 432x288 with 1 Axes>"
      ]
     },
     "metadata": {},
     "output_type": "display_data"
    }
   ],
   "source": [
    "%matplotlib inline \n",
    "import matplotlib.pyplot as plt \n",
    "import seaborn; seaborn.set()\n",
    "\n",
    "plt.hist(inches, 40)\n",
    "plt.title(\"2014-'PRCP'-of-Seattle\");\n"
   ]
  },
  {
   "cell_type": "markdown",
   "id": "212258aa",
   "metadata": {},
   "source": [
    "## 2.和通用函数类似的比较操作"
   ]
  },
  {
   "cell_type": "code",
   "execution_count": 3,
   "id": "7b1c5a99",
   "metadata": {},
   "outputs": [
    {
     "data": {
      "text/plain": [
       "array([ True,  True, False, False, False])"
      ]
     },
     "execution_count": 3,
     "metadata": {},
     "output_type": "execute_result"
    }
   ],
   "source": [
    "x = np.array([1, 2, 3, 4, 5])\n",
    "x < 3"
   ]
  },
  {
   "cell_type": "code",
   "execution_count": 4,
   "id": "a4dfc68b",
   "metadata": {},
   "outputs": [
    {
     "data": {
      "text/plain": [
       "array([False, False, False,  True,  True])"
      ]
     },
     "execution_count": 4,
     "metadata": {},
     "output_type": "execute_result"
    }
   ],
   "source": [
    "x > 3"
   ]
  },
  {
   "cell_type": "code",
   "execution_count": 5,
   "id": "339afd41",
   "metadata": {},
   "outputs": [
    {
     "data": {
      "text/plain": [
       "array([ True,  True,  True, False, False])"
      ]
     },
     "execution_count": 5,
     "metadata": {},
     "output_type": "execute_result"
    }
   ],
   "source": [
    "x <= 3"
   ]
  },
  {
   "cell_type": "code",
   "execution_count": 6,
   "id": "74c9915e",
   "metadata": {},
   "outputs": [
    {
     "data": {
      "text/plain": [
       "array([False, False,  True,  True,  True])"
      ]
     },
     "execution_count": 6,
     "metadata": {},
     "output_type": "execute_result"
    }
   ],
   "source": [
    "x >= 3"
   ]
  },
  {
   "cell_type": "code",
   "execution_count": 7,
   "id": "25def8e1",
   "metadata": {},
   "outputs": [
    {
     "data": {
      "text/plain": [
       "array([ True,  True, False,  True,  True])"
      ]
     },
     "execution_count": 7,
     "metadata": {},
     "output_type": "execute_result"
    }
   ],
   "source": [
    "x != 3"
   ]
  },
  {
   "cell_type": "code",
   "execution_count": 8,
   "id": "5af8e73f",
   "metadata": {},
   "outputs": [
    {
     "data": {
      "text/plain": [
       "array([False, False,  True, False, False])"
      ]
     },
     "execution_count": 8,
     "metadata": {},
     "output_type": "execute_result"
    }
   ],
   "source": [
    "x == 3"
   ]
  },
  {
   "cell_type": "markdown",
   "id": "ccfd9d26",
   "metadata": {},
   "source": [
    "**用复合表达式实现对两个数组的逐元素比较**"
   ]
  },
  {
   "cell_type": "code",
   "execution_count": 9,
   "id": "b825a378",
   "metadata": {},
   "outputs": [
    {
     "data": {
      "text/plain": [
       "array([False,  True, False, False, False])"
      ]
     },
     "execution_count": 9,
     "metadata": {},
     "output_type": "execute_result"
    }
   ],
   "source": [
    "(2 * x) == (x ** 2)"
   ]
  },
  {
   "cell_type": "markdown",
   "id": "a8444250",
   "metadata": {},
   "source": [
    "| 运算符 | 对应的通用函数 |\n",
    "|--------|----------------|\n",
    "| ==     | np.equal       |\n",
    "| !=     | np.not__equal  |\n",
    "| <      | np.less        |\n",
    "| <=   | np.less_equal           |\n",
    "| >   | np.greater           |\n",
    "| >=   | np.greater_equal           |\n"
   ]
  },
  {
   "cell_type": "code",
   "execution_count": 10,
   "id": "71320828",
   "metadata": {},
   "outputs": [
    {
     "data": {
      "text/plain": [
       "array([[5, 0, 3, 3],\n",
       "       [7, 9, 3, 5],\n",
       "       [2, 4, 7, 6]])"
      ]
     },
     "execution_count": 10,
     "metadata": {},
     "output_type": "execute_result"
    }
   ],
   "source": [
    "rng = np.random.RandomState(0)\n",
    "x = rng.randint(10, size=(3, 4))\n",
    "x"
   ]
  },
  {
   "cell_type": "code",
   "execution_count": 11,
   "id": "36c56327",
   "metadata": {},
   "outputs": [
    {
     "data": {
      "text/plain": [
       "array([[ True,  True,  True,  True],\n",
       "       [False, False,  True,  True],\n",
       "       [ True,  True, False, False]])"
      ]
     },
     "execution_count": 11,
     "metadata": {},
     "output_type": "execute_result"
    }
   ],
   "source": [
    "x < 6"
   ]
  },
  {
   "cell_type": "markdown",
   "id": "6bd7a8ce",
   "metadata": {},
   "source": [
    "## 3.操作布尔数组"
   ]
  },
  {
   "cell_type": "code",
   "execution_count": 12,
   "id": "cdc5da5c",
   "metadata": {},
   "outputs": [
    {
     "name": "stdout",
     "output_type": "stream",
     "text": [
      "[[5 0 3 3]\n",
      " [7 9 3 5]\n",
      " [2 4 7 6]]\n"
     ]
    }
   ],
   "source": [
    "print(x)"
   ]
  },
  {
   "cell_type": "markdown",
   "id": "b665b9cc",
   "metadata": {},
   "source": [
    "### 3.1 统计记录的个数"
   ]
  },
  {
   "cell_type": "markdown",
   "id": "f0cc048d",
   "metadata": {},
   "source": [
    "统计布尔数组中True的个数，用np.count_nonzero()"
   ]
  },
  {
   "cell_type": "code",
   "execution_count": 13,
   "id": "6a18caa6",
   "metadata": {},
   "outputs": [
    {
     "data": {
      "text/plain": [
       "8"
      ]
     },
     "execution_count": 13,
     "metadata": {},
     "output_type": "execute_result"
    }
   ],
   "source": [
    "np.count_nonzero(x < 6)"
   ]
  },
  {
   "cell_type": "markdown",
   "id": "1cb13674",
   "metadata": {},
   "source": [
    "等效于np.sum(),True会被解释成1,False会被解释成0"
   ]
  },
  {
   "cell_type": "code",
   "execution_count": 14,
   "id": "67011f57",
   "metadata": {},
   "outputs": [
    {
     "data": {
      "text/plain": [
       "8"
      ]
     },
     "execution_count": 14,
     "metadata": {},
     "output_type": "execute_result"
    }
   ],
   "source": [
    "np.sum(x < 6)"
   ]
  },
  {
   "cell_type": "markdown",
   "id": "88b6da81",
   "metadata": {},
   "source": [
    "sum可以沿着行或列进行"
   ]
  },
  {
   "cell_type": "code",
   "execution_count": 15,
   "id": "0c976b5d",
   "metadata": {},
   "outputs": [
    {
     "data": {
      "text/plain": [
       "array([4, 2, 2])"
      ]
     },
     "execution_count": 15,
     "metadata": {},
     "output_type": "execute_result"
    }
   ],
   "source": [
    "np.sum(x < 6, axis=1) #shape: (3, 4) -> (3, 1)"
   ]
  },
  {
   "cell_type": "markdown",
   "id": "ee30c9e8",
   "metadata": {},
   "source": [
    "**要检查任意或者所有这些值是否为True，可以用np.any()或np.all()**"
   ]
  },
  {
   "cell_type": "code",
   "execution_count": 16,
   "id": "38e1b491",
   "metadata": {},
   "outputs": [
    {
     "data": {
      "text/plain": [
       "True"
      ]
     },
     "execution_count": 16,
     "metadata": {},
     "output_type": "execute_result"
    }
   ],
   "source": [
    "# 有没有值大于8？\n",
    "np.any(x > 8)"
   ]
  },
  {
   "cell_type": "code",
   "execution_count": 17,
   "id": "4ecce3a6",
   "metadata": {},
   "outputs": [
    {
     "data": {
      "text/plain": [
       "True"
      ]
     },
     "execution_count": 17,
     "metadata": {},
     "output_type": "execute_result"
    }
   ],
   "source": [
    "# 是否所有值小于10？\n",
    "np.all(x < 10)"
   ]
  },
  {
   "cell_type": "code",
   "execution_count": 18,
   "id": "609ccc50",
   "metadata": {},
   "outputs": [
    {
     "data": {
      "text/plain": [
       "array([ True, False,  True])"
      ]
     },
     "execution_count": 18,
     "metadata": {},
     "output_type": "execute_result"
    }
   ],
   "source": [
    "np.all(x < 8, axis=1)"
   ]
  },
  {
   "cell_type": "markdown",
   "id": "7be4757a",
   "metadata": {},
   "source": [
    "### 3.2 布尔运算符"
   ]
  },
  {
   "cell_type": "markdown",
   "id": "52291d2e",
   "metadata": {},
   "source": [
    "逐位逻辑运算符&, |, ^, ~来实现"
   ]
  },
  {
   "cell_type": "code",
   "execution_count": 19,
   "id": "376cb4cd",
   "metadata": {},
   "outputs": [
    {
     "data": {
      "text/plain": [
       "29"
      ]
     },
     "execution_count": 19,
     "metadata": {},
     "output_type": "execute_result"
    }
   ],
   "source": [
    "np.sum((inches > 0.5) & (inches < 1))"
   ]
  },
  {
   "cell_type": "code",
   "execution_count": 20,
   "id": "2b5cbe9d",
   "metadata": {},
   "outputs": [
    {
     "data": {
      "text/plain": [
       "29"
      ]
     },
     "execution_count": 20,
     "metadata": {},
     "output_type": "execute_result"
    }
   ],
   "source": [
    "# 等价于\n",
    "np.sum(~((inches <= 0.5) | (inches >= 1)))"
   ]
  },
  {
   "cell_type": "markdown",
   "id": "e5b13f7d",
   "metadata": {},
   "source": [
    "| 运算符 | 对应通用函数   |\n",
    "|--------|----------------|\n",
    "| &      | np.bitwise_and |\n",
    "| \\|     | np.bitwise_or  |\n",
    "| ^      | np.bitwise_xor |\n",
    "|~        | np.bitwise_not           |\n"
   ]
  },
  {
   "cell_type": "markdown",
   "id": "f7176cf1",
   "metadata": {},
   "source": [
    "**利用掩码和聚合实现对天气数据分析**"
   ]
  },
  {
   "cell_type": "code",
   "execution_count": 21,
   "id": "47c4dd90",
   "metadata": {},
   "outputs": [
    {
     "name": "stdout",
     "output_type": "stream",
     "text": [
      "Number days without rain:  215\n",
      "Number days with rain:  150\n",
      "Days with more than 0.5 inches:  37\n",
      "Rainy days with < 0.1 inches:  75\n"
     ]
    }
   ],
   "source": [
    "print(\"Number days without rain: \", np.sum(inches == 0))\n",
    "print(\"Number days with rain: \", np.sum(inches != 0))\n",
    "print(\"Days with more than 0.5 inches: \", np.sum(inches > 0.5))\n",
    "print(\"Rainy days with < 0.1 inches: \", np.sum((inches > 0) & (inches < 0.2)))"
   ]
  },
  {
   "cell_type": "markdown",
   "id": "cdaa4559",
   "metadata": {},
   "source": [
    "## 4.将布尔数组作为掩码"
   ]
  },
  {
   "cell_type": "markdown",
   "id": "e72b01d0",
   "metadata": {},
   "source": [
    "掩码：对数组中的值进行按位&，|，^，～"
   ]
  },
  {
   "cell_type": "code",
   "execution_count": 22,
   "id": "7e9d5bed",
   "metadata": {},
   "outputs": [
    {
     "data": {
      "text/plain": [
       "array([[5, 0, 3, 3],\n",
       "       [7, 9, 3, 5],\n",
       "       [2, 4, 7, 6]])"
      ]
     },
     "execution_count": 22,
     "metadata": {},
     "output_type": "execute_result"
    }
   ],
   "source": [
    "x"
   ]
  },
  {
   "cell_type": "code",
   "execution_count": 23,
   "id": "9d3acb3c",
   "metadata": {},
   "outputs": [
    {
     "data": {
      "text/plain": [
       "array([[False,  True,  True,  True],\n",
       "       [False, False,  True, False],\n",
       "       [ True,  True, False, False]])"
      ]
     },
     "execution_count": 23,
     "metadata": {},
     "output_type": "execute_result"
    }
   ],
   "source": [
    "x < 5"
   ]
  },
  {
   "cell_type": "markdown",
   "id": "4e111914",
   "metadata": {},
   "source": [
    "**用掩码操作对x进行索引**"
   ]
  },
  {
   "cell_type": "code",
   "execution_count": 24,
   "id": "baaf6063",
   "metadata": {},
   "outputs": [
    {
     "data": {
      "text/plain": [
       "array([0, 3, 3, 3, 2, 4])"
      ]
     },
     "execution_count": 24,
     "metadata": {},
     "output_type": "execute_result"
    }
   ],
   "source": [
    "x[x < 5]"
   ]
  },
  {
   "cell_type": "code",
   "execution_count": 25,
   "id": "b4affcd8",
   "metadata": {},
   "outputs": [
    {
     "name": "stdout",
     "output_type": "stream",
     "text": [
      "Median precip on rainy days in 2014 (inches):  0.19488188976377951\n",
      "Median precip on summer days in 2014 (inches):  0.0\n",
      "Maximum precip on summer days in 1024 (inches):  0.8503937007874016\n",
      "Median precip on non-summer rainy days (inches):  0.20078740157480315\n"
     ]
    }
   ],
   "source": [
    "# 为所有下雨天创造一个掩码\n",
    "rainy = (inches > 0)\n",
    "\n",
    "# 构建一个包含整个夏季日期的掩码,6月21日是172天\n",
    "summer = (np.arange(365) - 172 < 90) & (np.arange(365) - 172 > 0)\n",
    "print(\"Median precip on rainy days in 2014 (inches): \", \n",
    "     np.median(inches[rainy]))\n",
    "print(\"Median precip on summer days in 2014 (inches): \", \n",
    "     np.median(inches[summer]))\n",
    "print(\"Maximum precip on summer days in 1024 (inches): \", \n",
    "     np.max(inches[summer]))\n",
    "print(\"Median precip on non-summer rainy days (inches): \", \n",
    "     np.median(inches[rainy & ~summer]))"
   ]
  },
  {
   "cell_type": "markdown",
   "id": "b2745a9b",
   "metadata": {},
   "source": [
    "**and和or判断整个对象的真假，而&和|指每个对象中的比特位**"
   ]
  },
  {
   "cell_type": "code",
   "execution_count": 26,
   "id": "ee355852",
   "metadata": {},
   "outputs": [
    {
     "data": {
      "text/plain": [
       "(True, False)"
      ]
     },
     "execution_count": 26,
     "metadata": {},
     "output_type": "execute_result"
    }
   ],
   "source": [
    "bool(42), bool(0)"
   ]
  },
  {
   "cell_type": "code",
   "execution_count": 27,
   "id": "0e4cb6bd",
   "metadata": {},
   "outputs": [
    {
     "data": {
      "text/plain": [
       "False"
      ]
     },
     "execution_count": 27,
     "metadata": {},
     "output_type": "execute_result"
    }
   ],
   "source": [
    "bool(42 and 0)"
   ]
  },
  {
   "cell_type": "code",
   "execution_count": 28,
   "id": "784d5910",
   "metadata": {},
   "outputs": [
    {
     "data": {
      "text/plain": [
       "True"
      ]
     },
     "execution_count": 28,
     "metadata": {},
     "output_type": "execute_result"
    }
   ],
   "source": [
    "bool(42 or 0)"
   ]
  },
  {
   "cell_type": "code",
   "execution_count": 29,
   "id": "5cdb9081",
   "metadata": {},
   "outputs": [
    {
     "data": {
      "text/plain": [
       "'0b101010'"
      ]
     },
     "execution_count": 29,
     "metadata": {},
     "output_type": "execute_result"
    }
   ],
   "source": [
    "bin(42) # 101010B"
   ]
  },
  {
   "cell_type": "code",
   "execution_count": 30,
   "id": "b81c2114",
   "metadata": {},
   "outputs": [
    {
     "data": {
      "text/plain": [
       "'0b111011'"
      ]
     },
     "execution_count": 30,
     "metadata": {},
     "output_type": "execute_result"
    }
   ],
   "source": [
    "bin(59) # 111011B"
   ]
  },
  {
   "cell_type": "code",
   "execution_count": 31,
   "id": "a077fb1e",
   "metadata": {},
   "outputs": [
    {
     "data": {
      "text/plain": [
       "'0b101010'"
      ]
     },
     "execution_count": 31,
     "metadata": {},
     "output_type": "execute_result"
    }
   ],
   "source": [
    "bin(42 & 59) # 按位与运算"
   ]
  },
  {
   "cell_type": "code",
   "execution_count": 32,
   "id": "2c931f92",
   "metadata": {},
   "outputs": [
    {
     "data": {
      "text/plain": [
       "'0b111011'"
      ]
     },
     "execution_count": 32,
     "metadata": {},
     "output_type": "execute_result"
    }
   ],
   "source": [
    "bin(42 | 59) # 按位或运算"
   ]
  },
  {
   "cell_type": "markdown",
   "id": "c00bf00a",
   "metadata": {},
   "source": [
    "**将Numpy中的布尔数组当作由比特字符组成的**"
   ]
  },
  {
   "cell_type": "code",
   "execution_count": 33,
   "id": "de2d418d",
   "metadata": {},
   "outputs": [
    {
     "data": {
      "text/plain": [
       "array([ True,  True,  True, False,  True,  True])"
      ]
     },
     "execution_count": 33,
     "metadata": {},
     "output_type": "execute_result"
    }
   ],
   "source": [
    "a = np.array([1, 0, 1, 0, 1, 0], dtype=bool)\n",
    "b = np.array([1, 1, 1, 0, 1, 1], dtype=bool)\n",
    "a | b"
   ]
  },
  {
   "cell_type": "code",
   "execution_count": 36,
   "id": "4ab19359",
   "metadata": {
    "scrolled": true
   },
   "outputs": [
    {
     "ename": "ValueError",
     "evalue": "The truth value of an array with more than one element is ambiguous. Use a.any() or a.all()",
     "output_type": "error",
     "traceback": [
      "\u001b[0;31m---------------------------------------------------------------------------\u001b[0m",
      "\u001b[0;31mValueError\u001b[0m                                Traceback (most recent call last)",
      "\u001b[0;32m<ipython-input-36-aeea32690a12>\u001b[0m in \u001b[0;36m<module>\u001b[0;34m\u001b[0m\n\u001b[0;32m----> 1\u001b[0;31m \u001b[0ma\u001b[0m \u001b[0;32mor\u001b[0m \u001b[0mb\u001b[0m \u001b[0;31m# 计算整个数组的真假，导致程序出错\u001b[0m\u001b[0;34m\u001b[0m\u001b[0;34m\u001b[0m\u001b[0m\n\u001b[0m",
      "\u001b[0;31mValueError\u001b[0m: The truth value of an array with more than one element is ambiguous. Use a.any() or a.all()"
     ]
    }
   ],
   "source": [
    "a or b # 计算整个数组的真假，导致程序出错"
   ]
  },
  {
   "cell_type": "markdown",
   "id": "bf778b51",
   "metadata": {},
   "source": [
    "对给定数组进行逻辑运算时，应该用|或者&，而不是and，ork"
   ]
  },
  {
   "cell_type": "code",
   "execution_count": 37,
   "id": "4784ed60",
   "metadata": {},
   "outputs": [
    {
     "data": {
      "text/plain": [
       "array([False, False, False, False, False,  True,  True,  True, False,\n",
       "       False])"
      ]
     },
     "execution_count": 37,
     "metadata": {},
     "output_type": "execute_result"
    }
   ],
   "source": [
    "x = np.arange(10)\n",
    "(x > 4) & (x < 8)"
   ]
  },
  {
   "cell_type": "code",
   "execution_count": 38,
   "id": "88eb0449",
   "metadata": {},
   "outputs": [
    {
     "ename": "ValueError",
     "evalue": "The truth value of an array with more than one element is ambiguous. Use a.any() or a.all()",
     "output_type": "error",
     "traceback": [
      "\u001b[0;31m---------------------------------------------------------------------------\u001b[0m",
      "\u001b[0;31mValueError\u001b[0m                                Traceback (most recent call last)",
      "\u001b[0;32m<ipython-input-38-48ba84cb91fd>\u001b[0m in \u001b[0;36m<module>\u001b[0;34m\u001b[0m\n\u001b[0;32m----> 1\u001b[0;31m \u001b[0;34m(\u001b[0m\u001b[0mx\u001b[0m \u001b[0;34m>\u001b[0m \u001b[0;36m4\u001b[0m\u001b[0;34m)\u001b[0m \u001b[0;32mand\u001b[0m \u001b[0;34m(\u001b[0m\u001b[0mx\u001b[0m \u001b[0;34m<\u001b[0m \u001b[0;36m8\u001b[0m\u001b[0;34m)\u001b[0m \u001b[0;31m#计算整个数组的真假会报错\u001b[0m\u001b[0;34m\u001b[0m\u001b[0;34m\u001b[0m\u001b[0m\n\u001b[0m",
      "\u001b[0;31mValueError\u001b[0m: The truth value of an array with more than one element is ambiguous. Use a.any() or a.all()"
     ]
    }
   ],
   "source": [
    "(x > 4) and (x < 8) #计算整个数组的真假会报错"
   ]
  },
  {
   "cell_type": "markdown",
   "id": "8e532805",
   "metadata": {},
   "source": [
    "总结：and和or对整个对象执行单个布尔运算，而&和|对一个对象的内容  \n",
    "（单个比特或字节）执行多个布尔运算，对于Numpy数组，常用位运算"
   ]
  }
 ],
 "metadata": {
  "kernelspec": {
   "display_name": "Python 3",
   "language": "python",
   "name": "python3"
  },
  "language_info": {
   "codemirror_mode": {
    "name": "ipython",
    "version": 3
   },
   "file_extension": ".py",
   "mimetype": "text/x-python",
   "name": "python",
   "nbconvert_exporter": "python",
   "pygments_lexer": "ipython3",
   "version": "3.9.4"
  }
 },
 "nbformat": 4,
 "nbformat_minor": 5
}
