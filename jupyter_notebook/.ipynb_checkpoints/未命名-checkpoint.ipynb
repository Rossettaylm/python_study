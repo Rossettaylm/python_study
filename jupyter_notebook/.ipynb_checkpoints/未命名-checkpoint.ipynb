{
 "cells": [
  {
   "cell_type": "markdown",
   "id": "c102d43d",
   "metadata": {},
   "source": [
    "# 数组的计算：广播"
   ]
  },
  {
   "cell_type": "markdown",
   "id": "90dd5716",
   "metadata": {},
   "source": [
    "**广播是对于不同大小的数组的二进制通用函数的一组规则**"
   ]
  },
  {
   "cell_type": "markdown",
   "id": "ec2f02af",
   "metadata": {},
   "source": [
    "## 1. 广播的介绍"
   ]
  },
  {
   "cell_type": "code",
   "execution_count": 2,
   "id": "659cd8e5",
   "metadata": {},
   "outputs": [
    {
     "data": {
      "text/plain": [
       "array([5, 6, 7])"
      ]
     },
     "execution_count": 2,
     "metadata": {},
     "output_type": "execute_result"
    }
   ],
   "source": [
    "import numpy as np \n",
    "a = np.array([0, 1, 2])\n",
    "b = np.array([5, 5, 5])\n",
    "a + b"
   ]
  },
  {
   "cell_type": "markdown",
   "id": "6ada15eb",
   "metadata": {},
   "source": [
    "a + 5表示将数值5扩展或重复至数组[5, 5, 5]，然后执行加法。  \n",
    "广播功能实际上并没有执行对值的重复"
   ]
  },
  {
   "cell_type": "code",
   "execution_count": 3,
   "id": "fe55b70b",
   "metadata": {},
   "outputs": [
    {
     "data": {
      "text/plain": [
       "array([5, 6, 7])"
      ]
     },
     "execution_count": 3,
     "metadata": {},
     "output_type": "execute_result"
    }
   ],
   "source": [
    "a + 5"
   ]
  },
  {
   "cell_type": "code",
   "execution_count": 4,
   "id": "7dbdec94",
   "metadata": {},
   "outputs": [
    {
     "data": {
      "text/plain": [
       "array([[1., 1., 1.],\n",
       "       [1., 1., 1.],\n",
       "       [1., 1., 1.]])"
      ]
     },
     "execution_count": 4,
     "metadata": {},
     "output_type": "execute_result"
    }
   ],
   "source": [
    "m = np.ones((3, 3))\n",
    "m"
   ]
  },
  {
   "cell_type": "markdown",
   "id": "7084221f",
   "metadata": {},
   "source": [
    "一维数组a称之为被广播，它沿着第二个维度扩展到匹配m数组的形状"
   ]
  },
  {
   "cell_type": "code",
   "execution_count": 5,
   "id": "1c72c822",
   "metadata": {},
   "outputs": [
    {
     "data": {
      "text/plain": [
       "array([[1., 2., 3.],\n",
       "       [1., 2., 3.],\n",
       "       [1., 2., 3.]])"
      ]
     },
     "execution_count": 5,
     "metadata": {},
     "output_type": "execute_result"
    }
   ],
   "source": [
    "m + a"
   ]
  },
  {
   "cell_type": "markdown",
   "id": "848d9bc8",
   "metadata": {},
   "source": [
    "**对两个数组同时广播**"
   ]
  },
  {
   "cell_type": "code",
   "execution_count": 6,
   "id": "e0baface",
   "metadata": {},
   "outputs": [
    {
     "name": "stdout",
     "output_type": "stream",
     "text": [
      "[0 1 2]\n",
      "[[0]\n",
      " [1]\n",
      " [2]]\n"
     ]
    }
   ],
   "source": [
    "a = np.arange(3)\n",
    "b = np.arange(3)[:, np.newaxis]\n",
    "print(a)\n",
    "print(b)"
   ]
  },
  {
   "cell_type": "code",
   "execution_count": 7,
   "id": "7545bc81",
   "metadata": {},
   "outputs": [
    {
     "data": {
      "text/plain": [
       "array([[0, 1, 2],\n",
       "       [1, 2, 3],\n",
       "       [2, 3, 4]])"
      ]
     },
     "execution_count": 7,
     "metadata": {},
     "output_type": "execute_result"
    }
   ],
   "source": [
    "a + b"
   ]
  },
  {
   "cell_type": "markdown",
   "id": "ea96f718",
   "metadata": {},
   "source": [
    "![picture](ndim_broadcast_image.png)"
   ]
  },
  {
   "cell_type": "markdown",
   "id": "f3f15a14",
   "metadata": {},
   "source": [
    "## 2. 广播的规则"
   ]
  },
  {
   "cell_type": "markdown",
   "id": "2914c600",
   "metadata": {},
   "source": [
    "> - 规则1：如果两个数组的维度数不同，那么小维度的数组会在左边补1  \n",
    "> - 规则2：如果两个数组的形状在任何一个维度上都不匹配，那么数组的  \n",
    "形状会沿着维度为1的维度扩展以匹配另一个数组的形状  \n",
    "> - 规则3：如果两个数组的形状在任何一个维度上都不匹配且没有任何一个  \n",
    "维度为1,那么会引发异常"
   ]
  },
  {
   "cell_type": "markdown",
   "id": "010ebbd7",
   "metadata": {},
   "source": [
    "### 2.1 广播示例1"
   ]
  },
  {
   "cell_type": "markdown",
   "id": "b2f74bfb",
   "metadata": {},
   "source": [
    "将一个二维数组和一个一维数组相加"
   ]
  },
  {
   "cell_type": "code",
   "execution_count": 8,
   "id": "4004d4e6",
   "metadata": {},
   "outputs": [
    {
     "name": "stdout",
     "output_type": "stream",
     "text": [
      "(2, 3)\n",
      "(3,)\n"
     ]
    }
   ],
   "source": [
    "m = np.ones((2, 3))\n",
    "a = np.arange(3)\n",
    "print(m.shape)\n",
    "print(a.shape)"
   ]
  },
  {
   "cell_type": "markdown",
   "id": "2362d8fe",
   "metadata": {},
   "source": [
    "**根据规则1,数组a的维度更小，在其左边补1**  \n",
    "m.shape -> (2, 3)  \n",
    "a.shape -> (1, 3)  \n",
    "**根据规则2,第一个维度不匹配，扩展这个维度以匹配数组**  \n",
    "m.shape -> (2, 3)  \n",
    "a.shape -> (2, 3)"
   ]
  },
  {
   "cell_type": "code",
   "execution_count": 10,
   "id": "d6e26e50",
   "metadata": {},
   "outputs": [
    {
     "data": {
      "text/plain": [
       "array([[1., 1., 1.],\n",
       "       [1., 1., 1.]])"
      ]
     },
     "execution_count": 10,
     "metadata": {},
     "output_type": "execute_result"
    }
   ],
   "source": [
    "m"
   ]
  },
  {
   "cell_type": "code",
   "execution_count": 11,
   "id": "37ee721f",
   "metadata": {},
   "outputs": [
    {
     "data": {
      "text/plain": [
       "array([0, 1, 2])"
      ]
     },
     "execution_count": 11,
     "metadata": {},
     "output_type": "execute_result"
    }
   ],
   "source": [
    "a"
   ]
  },
  {
   "cell_type": "code",
   "execution_count": 12,
   "id": "dc10b19d",
   "metadata": {},
   "outputs": [
    {
     "data": {
      "text/plain": [
       "array([[1., 2., 3.],\n",
       "       [1., 2., 3.]])"
      ]
     },
     "execution_count": 12,
     "metadata": {},
     "output_type": "execute_result"
    }
   ],
   "source": [
    "m + a"
   ]
  },
  {
   "cell_type": "markdown",
   "id": "aef7b1a0",
   "metadata": {},
   "source": [
    "### 2.2 广播示例2"
   ]
  },
  {
   "cell_type": "code",
   "execution_count": 13,
   "id": "60aa2f34",
   "metadata": {},
   "outputs": [
    {
     "name": "stdout",
     "output_type": "stream",
     "text": [
      "(3, 1)\n",
      "(3,)\n"
     ]
    }
   ],
   "source": [
    "a = np.arange(3).reshape(3, 1)\n",
    "b = np.arange(3)\n",
    "print(a.shape)\n",
    "print(b.shape)"
   ]
  },
  {
   "cell_type": "markdown",
   "id": "8c941705",
   "metadata": {},
   "source": [
    "**根据规则1,用1将b补全**  \n",
    "a.shape -> (3, 1)  \n",
    "b.shape -> (1, 3)  \n",
    "**根据规则2,更新数组维度**  \n",
    "a.shape -> (3, 3)  \n",
    "b.shape -> (3, 3)  "
   ]
  },
  {
   "cell_type": "code",
   "execution_count": 15,
   "id": "36a05e30",
   "metadata": {},
   "outputs": [
    {
     "data": {
      "text/plain": [
       "array([[0, 1, 2],\n",
       "       [1, 2, 3],\n",
       "       [2, 3, 4]])"
      ]
     },
     "execution_count": 15,
     "metadata": {},
     "output_type": "execute_result"
    }
   ],
   "source": [
    "a + b"
   ]
  },
  {
   "cell_type": "markdown",
   "id": "3fdb579b",
   "metadata": {},
   "source": [
    "### 2.3 广播示例3"
   ]
  },
  {
   "cell_type": "code",
   "execution_count": 16,
   "id": "62c1f03d",
   "metadata": {},
   "outputs": [
    {
     "name": "stdout",
     "output_type": "stream",
     "text": [
      "(3, 2)\n",
      "(3,)\n"
     ]
    }
   ],
   "source": [
    "m = np.ones((3, 2))\n",
    "a = np.arange(3)\n",
    "print(m.shape)\n",
    "print(a.shape)"
   ]
  },
  {
   "cell_type": "markdown",
   "id": "6c887028",
   "metadata": {},
   "source": [
    "**根据规则1,对第二个数组左边补1**  \n",
    "m.shape -> (3, 2)  \n",
    "a.shape -> (1, 3)  \n",
    "**根据规则2,a数组的第一个维度扩展**  \n",
    "m.shape -> (3, 2)  \n",
    "a.shape -> (3, 3)  \n",
    "**根据规则3,最终形状不匹配，报错**"
   ]
  },
  {
   "cell_type": "code",
   "execution_count": 17,
   "id": "162f187d",
   "metadata": {},
   "outputs": [
    {
     "ename": "ValueError",
     "evalue": "operands could not be broadcast together with shapes (3,2) (3,) ",
     "output_type": "error",
     "traceback": [
      "\u001b[0;31m---------------------------------------------------------------------------\u001b[0m",
      "\u001b[0;31mValueError\u001b[0m                                Traceback (most recent call last)",
      "\u001b[0;32m<ipython-input-17-68d7e196ee7e>\u001b[0m in \u001b[0;36m<module>\u001b[0;34m\u001b[0m\n\u001b[0;32m----> 1\u001b[0;31m \u001b[0mm\u001b[0m \u001b[0;34m+\u001b[0m \u001b[0ma\u001b[0m\u001b[0;34m\u001b[0m\u001b[0;34m\u001b[0m\u001b[0m\n\u001b[0m",
      "\u001b[0;31mValueError\u001b[0m: operands could not be broadcast together with shapes (3,2) (3,) "
     ]
    }
   ],
   "source": [
    "m + a"
   ]
  },
  {
   "cell_type": "markdown",
   "id": "3cf7d384",
   "metadata": {},
   "source": [
    "How to realize right complemention?"
   ]
  },
  {
   "cell_type": "code",
   "execution_count": 20,
   "id": "3e3aa0ca",
   "metadata": {},
   "outputs": [
    {
     "data": {
      "text/plain": [
       "(3,)"
      ]
     },
     "execution_count": 20,
     "metadata": {},
     "output_type": "execute_result"
    }
   ],
   "source": [
    "a.shape"
   ]
  },
  {
   "cell_type": "code",
   "execution_count": 21,
   "id": "52e8d7cd",
   "metadata": {},
   "outputs": [
    {
     "data": {
      "text/plain": [
       "(3, 1)"
      ]
     },
     "execution_count": 21,
     "metadata": {},
     "output_type": "execute_result"
    }
   ],
   "source": [
    "a[:, np.newaxis].shape"
   ]
  },
  {
   "cell_type": "code",
   "execution_count": 22,
   "id": "23d0ec14",
   "metadata": {},
   "outputs": [
    {
     "data": {
      "text/plain": [
       "array([[1., 1.],\n",
       "       [2., 2.],\n",
       "       [3., 3.]])"
      ]
     },
     "execution_count": 22,
     "metadata": {},
     "output_type": "execute_result"
    }
   ],
   "source": [
    "m + a[:, np.newaxis]"
   ]
  },
  {
   "cell_type": "markdown",
   "id": "7e231b7b",
   "metadata": {},
   "source": [
    "**广播规则对于任意二进制通用函数都是适用的。  \n",
    "例如logaddexp(a, b)函数**  \n",
    "logaddexp(a, b) = log(exp(a) + exp(b)) = ln(e^a + e^b)"
   ]
  },
  {
   "cell_type": "code",
   "execution_count": 23,
   "id": "8496949f",
   "metadata": {},
   "outputs": [
    {
     "data": {
      "text/plain": [
       "array([[1.31326169, 1.31326169],\n",
       "       [1.69314718, 1.69314718],\n",
       "       [2.31326169, 2.31326169]])"
      ]
     },
     "execution_count": 23,
     "metadata": {},
     "output_type": "execute_result"
    }
   ],
   "source": [
    "np.logaddexp(m, a[:, np.newaxis])"
   ]
  },
  {
   "cell_type": "code",
   "execution_count": 26,
   "id": "e379e8cf",
   "metadata": {},
   "outputs": [
    {
     "data": {
      "text/plain": [
       "array([[1.31326169, 1.31326169],\n",
       "       [1.69314718, 1.69314718],\n",
       "       [2.31326169, 2.31326169]])"
      ]
     },
     "execution_count": 26,
     "metadata": {},
     "output_type": "execute_result"
    }
   ],
   "source": [
    "np.log(np.exp(m) + np.exp(a[:, np.newaxis]))"
   ]
  },
  {
   "cell_type": "markdown",
   "id": "877111ee",
   "metadata": {},
   "source": [
    "## 3. 广播的实际应用"
   ]
  },
  {
   "cell_type": "markdown",
   "id": "fef2c15f",
   "metadata": {},
   "source": [
    "### 3.1 数组的归一化"
   ]
  },
  {
   "cell_type": "code",
   "execution_count": 27,
   "id": "d79bdc73",
   "metadata": {},
   "outputs": [],
   "source": [
    "x = np.random.random((10, 3))"
   ]
  },
  {
   "cell_type": "code",
   "execution_count": 28,
   "id": "ac6d9cc0",
   "metadata": {},
   "outputs": [
    {
     "data": {
      "text/plain": [
       "array([0.5498834 , 0.4607805 , 0.46652879])"
      ]
     },
     "execution_count": 28,
     "metadata": {},
     "output_type": "execute_result"
    }
   ],
   "source": [
    "xmean = x.mean(axis=0)\n",
    "xmean"
   ]
  },
  {
   "cell_type": "code",
   "execution_count": 29,
   "id": "3bc387b1",
   "metadata": {},
   "outputs": [],
   "source": [
    "x_centered = x - xmean # 广播操作，从x数组的元素中减去均值实现归一化"
   ]
  },
  {
   "cell_type": "code",
   "execution_count": 30,
   "id": "c606dc4e",
   "metadata": {},
   "outputs": [
    {
     "data": {
      "text/plain": [
       "array([[ 0.30894729,  0.09587686, -0.2536165 ],\n",
       "       [-0.51368925,  0.52433187,  0.47158472],\n",
       "       [-0.34156767, -0.42011325, -0.19946168],\n",
       "       [ 0.24677585, -0.10969171, -0.33134527],\n",
       "       [ 0.25782221,  0.17723551, -0.26855836],\n",
       "       [-0.32169796, -0.29602264,  0.10927495],\n",
       "       [ 0.08100271, -0.10999142, -0.03950077],\n",
       "       [ 0.12144126, -0.22932362,  0.2433633 ],\n",
       "       [ 0.38872637,  0.51180859,  0.35231374],\n",
       "       [-0.2277608 , -0.14411018, -0.08405414]])"
      ]
     },
     "execution_count": 30,
     "metadata": {},
     "output_type": "execute_result"
    }
   ],
   "source": [
    "x_centered"
   ]
  },
  {
   "cell_type": "code",
   "execution_count": 31,
   "id": "d4219eb9",
   "metadata": {},
   "outputs": [
    {
     "data": {
      "text/plain": [
       "array([-3.33066907e-17,  9.99200722e-17,  1.11022302e-16])"
      ]
     },
     "execution_count": 31,
     "metadata": {},
     "output_type": "execute_result"
    }
   ],
   "source": [
    "x_centered.mean(axis=0)"
   ]
  },
  {
   "cell_type": "markdown",
   "id": "0bafef9e",
   "metadata": {},
   "source": [
    "上式在机器精度内，均值近似为0"
   ]
  },
  {
   "cell_type": "code",
   "execution_count": 37,
   "id": "520f6a52",
   "metadata": {},
   "outputs": [
    {
     "data": {
      "text/plain": [
       "array([[ 0.31603057,  0.01385724, -0.32988782],\n",
       "       [-0.61694586,  0.33197236,  0.2849735 ],\n",
       "       [ 0.03629903, -0.13134945,  0.09505042],\n",
       "       [ 0.36901539, -0.07655507, -0.29246033],\n",
       "       [ 0.25980826,  0.09011866, -0.34992691],\n",
       "       [-0.09473024, -0.15815783,  0.25288807],\n",
       "       [ 0.16131837, -0.11877866, -0.04253971],\n",
       "       [ 0.13376678, -0.30610099,  0.17233422],\n",
       "       [ 0.02859598,  0.06257529, -0.09117126],\n",
       "       [-0.01829992, -0.02375221,  0.04205213]])"
      ]
     },
     "execution_count": 37,
     "metadata": {},
     "output_type": "execute_result"
    }
   ],
   "source": [
    "xmeany = x.mean(axis=1)[:, np.newaxis] # mean返回的数组需要进行整形\n",
    "x_centeredy = x - xmeany\n",
    "x_centeredy"
   ]
  },
  {
   "cell_type": "code",
   "execution_count": 39,
   "id": "c092ad6f",
   "metadata": {},
   "outputs": [
    {
     "data": {
      "text/plain": [
       "array([[ 0.00000000e+00],\n",
       "       [ 7.40148683e-17],\n",
       "       [-9.25185854e-18],\n",
       "       [-5.55111512e-17],\n",
       "       [-3.70074342e-17],\n",
       "       [-1.85037171e-17],\n",
       "       [ 0.00000000e+00],\n",
       "       [ 3.70074342e-17],\n",
       "       [ 0.00000000e+00],\n",
       "       [ 0.00000000e+00]])"
      ]
     },
     "execution_count": 39,
     "metadata": {},
     "output_type": "execute_result"
    }
   ],
   "source": [
    "x_centeredy.mean(axis=1)[:, np.newaxis]"
   ]
  },
  {
   "cell_type": "markdown",
   "id": "deb11b8b",
   "metadata": {},
   "source": [
    "### 3.2 画一个二维函数"
   ]
  },
  {
   "cell_type": "markdown",
   "id": "1eb9063d",
   "metadata": {},
   "source": [
    "定义一个二维函数z=f(x, y)，可以用广播沿着数值区间计算该函数"
   ]
  },
  {
   "cell_type": "code",
   "execution_count": 41,
   "id": "4c106e2d",
   "metadata": {},
   "outputs": [],
   "source": [
    "# np.linspace(start, end, step_number)\n",
    "x = np.linspace(0, 5, 50)\n",
    "y = np.linspace(0, 5, 50)[:, np.newaxis]\n",
    "z = np.sin(x) ** 10 + np.cos(10 + y * x) * np.cos(x)"
   ]
  },
  {
   "cell_type": "code",
   "execution_count": 42,
   "id": "6cae65b3",
   "metadata": {},
   "outputs": [
    {
     "data": {
      "text/plain": [
       "<matplotlib.colorbar.Colorbar at 0x7f5ec148bb20>"
      ]
     },
     "execution_count": 42,
     "metadata": {},
     "output_type": "execute_result"
    },
    {
     "data": {
      "image/png": "[encoded data removed]",
      "text/plain": [
       "<Figure size 432x288 with 2 Axes>"
      ]
     },
     "metadata": {
      "needs_background": "light"
     },
     "output_type": "display_data"
    }
   ],
   "source": [
    "%matplotlib inline\n",
    "import matplotlib.pyplot as plt\n",
    "plt.imshow(z, origin='lower', extent=[0, 5, 0, 5],\n",
    "          cmap='viridis')\n",
    "plt.colorbar()"
   ]
  }
 ],
 "metadata": {
  "kernelspec": {
   "display_name": "Python 3",
   "language": "python",
   "name": "python3"
  },
  "language_info": {
   "codemirror_mode": {
    "name": "ipython",
    "version": 3
   },
   "file_extension": ".py",
   "mimetype": "text/x-python",
   "name": "python",
   "nbconvert_exporter": "python",
   "pygments_lexer": "ipython3",
   "version": "3.9.4"
  }
 },
 "nbformat": 4,
 "nbformat_minor": 5
}
