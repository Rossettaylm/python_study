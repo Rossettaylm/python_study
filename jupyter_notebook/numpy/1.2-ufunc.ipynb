{
 "cells": [
  {
   "cell_type": "markdown",
   "id": "b3462e8c",
   "metadata": {},
   "source": [
    "# Numpy数组的计算：通用函数"
   ]
  },
  {
   "cell_type": "markdown",
   "id": "e26a1d17",
   "metadata": {},
   "source": [
    "***通用函数：ufunc***"
   ]
  },
  {
   "cell_type": "markdown",
   "id": "0ccb8072",
   "metadata": {},
   "source": [
    "## 1. Why ufunc?"
   ]
  },
  {
   "cell_type": "code",
   "execution_count": 2,
   "id": "3d30f121",
   "metadata": {},
   "outputs": [
    {
     "data": {
      "text/plain": [
       "array([0.16666667, 1.        , 0.25      , 0.25      , 0.125     ])"
      ]
     },
     "execution_count": 2,
     "metadata": {},
     "output_type": "execute_result"
    }
   ],
   "source": [
    "import numpy as np\n",
    "np.random.seed(0)\n",
    "\n",
    "def compute(values):\n",
    "    output = np.empty(len(values))\n",
    "    for i in range(len(values)):\n",
    "        output[i] = 1.0 / values[i]\n",
    "    return output\n",
    "\n",
    "values = np.random.randint(1, 10, size=5)\n",
    "compute(values)"
   ]
  },
  {
   "cell_type": "code",
   "execution_count": 6,
   "id": "ba4b069b",
   "metadata": {},
   "outputs": [
    {
     "name": "stdout",
     "output_type": "stream",
     "text": [
      "1.46 s ± 14.7 ms per loop (mean ± std. dev. of 7 runs, 1 loop each)\n"
     ]
    }
   ],
   "source": [
    "big_array = np.random.randint(1, 100, size=1000000)\n",
    "%timeit compute(big_array)"
   ]
  },
  {
   "cell_type": "markdown",
   "id": "a545ae62",
   "metadata": {},
   "source": [
    "**It's too slow!**"
   ]
  },
  {
   "cell_type": "markdown",
   "id": "cfa1fbba",
   "metadata": {},
   "source": [
    "## 2. 通用函数介绍"
   ]
  },
  {
   "cell_type": "markdown",
   "id": "310914a3",
   "metadata": {},
   "source": [
    "**方便、静态类型、可编译程序的接口，也被称为向量操作**"
   ]
  },
  {
   "cell_type": "code",
   "execution_count": 8,
   "id": "d5e04e7a",
   "metadata": {},
   "outputs": [
    {
     "name": "stdout",
     "output_type": "stream",
     "text": [
      "[0.16666667 1.         0.25       0.25       0.125     ]\n",
      "[0.16666667 1.         0.25       0.25       0.125     ]\n"
     ]
    }
   ],
   "source": [
    "print(compute(values))\n",
    "print(1.0 / values)"
   ]
  },
  {
   "cell_type": "code",
   "execution_count": 9,
   "id": "787a42f6",
   "metadata": {},
   "outputs": [
    {
     "name": "stdout",
     "output_type": "stream",
     "text": [
      "1.28 ms ± 13.6 µs per loop (mean ± std. dev. of 7 runs, 1000 loops each)\n"
     ]
    }
   ],
   "source": [
    "%timeit (1.0 / big_array)"
   ]
  },
  {
   "cell_type": "markdown",
   "id": "d5b31d58",
   "metadata": {},
   "source": [
    "**quicker than compute function!!!**"
   ]
  },
  {
   "cell_type": "code",
   "execution_count": 11,
   "id": "4361c581",
   "metadata": {},
   "outputs": [
    {
     "data": {
      "text/plain": [
       "array([0.        , 0.5       , 0.66666667, 0.75      , 0.8       ])"
      ]
     },
     "execution_count": 11,
     "metadata": {},
     "output_type": "execute_result"
    }
   ],
   "source": [
    "np.arange(5) / np.arange(1, 6)"
   ]
  },
  {
   "cell_type": "markdown",
   "id": "86766e4a",
   "metadata": {},
   "source": [
    "**多维数组运算**"
   ]
  },
  {
   "cell_type": "code",
   "execution_count": 13,
   "id": "66cf67ff",
   "metadata": {},
   "outputs": [
    {
     "data": {
      "text/plain": [
       "array([[  1,   2,   4],\n",
       "       [  8,  16,  32],\n",
       "       [ 64, 128, 256]])"
      ]
     },
     "execution_count": 13,
     "metadata": {},
     "output_type": "execute_result"
    }
   ],
   "source": [
    "x = np.arange(9).reshape((3, 3))\n",
    "2**x"
   ]
  },
  {
   "cell_type": "markdown",
   "id": "f67772d1",
   "metadata": {},
   "source": [
    "## 3. 探索Numpy的通用函数"
   ]
  },
  {
   "cell_type": "markdown",
   "id": "83049753",
   "metadata": {},
   "source": [
    "**一元通用函数(unary ufunc)对单个输入操作  \n",
    "二元通用函数(binary ufunc)对两个输入操作**"
   ]
  },
  {
   "cell_type": "markdown",
   "id": "12e583c9",
   "metadata": {},
   "source": [
    "### 3.1 采用python标准计算符对数组内每一个值进行相同操作"
   ]
  },
  {
   "cell_type": "code",
   "execution_count": 17,
   "id": "7a97c763",
   "metadata": {},
   "outputs": [
    {
     "name": "stdout",
     "output_type": "stream",
     "text": [
      "x     = [0 1 2 3]\n",
      "x + 5 = [5 6 7 8]\n",
      "x - 5 = [-5 -4 -3 -2]\n",
      "x * 2 = [0 2 4 6]\n",
      "x / 2 = [0.  0.5 1.  1.5]\n",
      "x // 2 = [0 0 1 1]\n"
     ]
    }
   ],
   "source": [
    "x = np.arange(4)\n",
    "print(\"x     =\", x)\n",
    "print(\"x + 5 =\", x+5)\n",
    "print(\"x - 5 =\", x-5)\n",
    "print(\"x * 2 =\", x*2)\n",
    "print(\"x / 2 =\", x/2)\n",
    "print(\"x // 2 =\", x//2)"
   ]
  },
  {
   "cell_type": "code",
   "execution_count": 18,
   "id": "a7cc54ae",
   "metadata": {},
   "outputs": [
    {
     "data": {
      "text/plain": [
       "array([-1.  , -2.25, -4.  , -6.25])"
      ]
     },
     "execution_count": 18,
     "metadata": {},
     "output_type": "execute_result"
    }
   ],
   "source": [
    "-(0.5*x + 1) ** 2"
   ]
  },
  {
   "cell_type": "markdown",
   "id": "7608d81d",
   "metadata": {},
   "source": [
    "|运算符|对应的ufunc|\n",
    "|-----|----------|\n",
    "|+|np.add|\n",
    "|-|np.substract|\n",
    "|-|np.negative|\n",
    "|\\*|np.multiply|\n",
    "|/|np.divide|\n",
    "|//|np.floor_divide|\n",
    "|**|np.power|\n",
    "|%|np.mod|\n"
   ]
  },
  {
   "cell_type": "code",
   "execution_count": 21,
   "id": "0c163c05",
   "metadata": {},
   "outputs": [
    {
     "data": {
      "text/plain": [
       "array([ 0, -1, -2, -3])"
      ]
     },
     "execution_count": 21,
     "metadata": {},
     "output_type": "execute_result"
    }
   ],
   "source": [
    "np.negative(x)"
   ]
  },
  {
   "cell_type": "code",
   "execution_count": 22,
   "id": "ed51a882",
   "metadata": {},
   "outputs": [
    {
     "data": {
      "text/plain": [
       "array([  0,   1,  32, 243])"
      ]
     },
     "execution_count": 22,
     "metadata": {},
     "output_type": "execute_result"
    }
   ],
   "source": [
    "np.power(x, 5)"
   ]
  },
  {
   "cell_type": "code",
   "execution_count": 23,
   "id": "0f01aaf0",
   "metadata": {},
   "outputs": [
    {
     "data": {
      "text/plain": [
       "array([  1,   5,  25, 125])"
      ]
     },
     "execution_count": 23,
     "metadata": {},
     "output_type": "execute_result"
    }
   ],
   "source": [
    "np.power(5, x)"
   ]
  },
  {
   "cell_type": "markdown",
   "id": "d49a76c6",
   "metadata": {},
   "source": [
    "### 3.2 三种绝对值调用方法"
   ]
  },
  {
   "cell_type": "code",
   "execution_count": 24,
   "id": "4021270a",
   "metadata": {},
   "outputs": [
    {
     "data": {
      "text/plain": [
       "array([2, 1, 0, 1, 2])"
      ]
     },
     "execution_count": 24,
     "metadata": {},
     "output_type": "execute_result"
    }
   ],
   "source": [
    "x = np.array([-2, -1, 0, 1, 2])\n",
    "abs(x)"
   ]
  },
  {
   "cell_type": "code",
   "execution_count": 25,
   "id": "344d6e93",
   "metadata": {},
   "outputs": [
    {
     "data": {
      "text/plain": [
       "array([2, 1, 0, 1, 2])"
      ]
     },
     "execution_count": 25,
     "metadata": {},
     "output_type": "execute_result"
    }
   ],
   "source": [
    "np.absolute(x)"
   ]
  },
  {
   "cell_type": "code",
   "execution_count": 26,
   "id": "03dc0eb0",
   "metadata": {},
   "outputs": [
    {
     "data": {
      "text/plain": [
       "array([2, 1, 0, 1, 2])"
      ]
     },
     "execution_count": 26,
     "metadata": {},
     "output_type": "execute_result"
    }
   ],
   "source": [
    "np.abs(x)"
   ]
  },
  {
   "cell_type": "markdown",
   "id": "d7d816bc",
   "metadata": {},
   "source": [
    "处理复数时绝对值返回该复数的幅度,dtype=float"
   ]
  },
  {
   "cell_type": "code",
   "execution_count": 28,
   "id": "1450b6ae",
   "metadata": {},
   "outputs": [
    {
     "data": {
      "text/plain": [
       "array([5., 5., 2., 1.])"
      ]
     },
     "execution_count": 28,
     "metadata": {},
     "output_type": "execute_result"
    }
   ],
   "source": [
    "x = np.array([3 - 4j, 4 - 3j, 2 + 0j, 0 + 1j])\n",
    "np.abs(x)"
   ]
  },
  {
   "cell_type": "markdown",
   "id": "783dcc71",
   "metadata": {},
   "source": [
    "### 3.3 三角函数"
   ]
  },
  {
   "cell_type": "markdown",
   "id": "4435a2ba",
   "metadata": {},
   "source": [
    "np.linspace(start, stop, sample_number)"
   ]
  },
  {
   "cell_type": "code",
   "execution_count": 29,
   "id": "59df3bbd",
   "metadata": {},
   "outputs": [],
   "source": [
    "theta = np.linspace(0, np.pi, 3)"
   ]
  },
  {
   "cell_type": "code",
   "execution_count": 36,
   "id": "47c0058d",
   "metadata": {},
   "outputs": [
    {
     "name": "stdout",
     "output_type": "stream",
     "text": [
      "theta =  0                pi/2         pi\n",
      "theta =  [0.         1.57079633 3.14159265]\n",
      "sin(theta) =  [0.0000000e+00 1.0000000e+00 1.2246468e-16]\n",
      "cos(theta) =  [ 1.000000e+00  6.123234e-17 -1.000000e+00]\n",
      "tan(theta) =  [ 0.00000000e+00  1.63312394e+16 -1.22464680e-16]\n"
     ]
    }
   ],
   "source": [
    "print(\"theta = \", '0'.ljust(10), 'pi/2'.rjust(10), 'pi'.rjust(10))\n",
    "print(\"theta = \", theta)\n",
    "print(\"sin(theta) = \", np.sin(theta))\n",
    "print(\"cos(theta) = \", np.cos(theta))\n",
    "print(\"tan(theta) = \", np.tan(theta))"
   ]
  },
  {
   "cell_type": "code",
   "execution_count": 38,
   "id": "25b241cc",
   "metadata": {},
   "outputs": [
    {
     "name": "stdout",
     "output_type": "stream",
     "text": [
      "x =  [-1, 0, 1]\n",
      "arcsin(x) =  [-1.57079633  0.          1.57079633]\n",
      "arccos(x) =  [3.14159265 1.57079633 0.        ]\n",
      "arctan(x) =  [-0.78539816  0.          0.78539816]\n"
     ]
    }
   ],
   "source": [
    "x = [-1, 0, 1]\n",
    "print(\"x = \", x)\n",
    "print(\"arcsin(x) = \", np.arcsin(x))\n",
    "print(\"arccos(x) = \", np.arccos(x))\n",
    "print(\"arctan(x) = \", np.arctan(x))"
   ]
  },
  {
   "cell_type": "markdown",
   "id": "d232cb92",
   "metadata": {},
   "source": [
    "### 3.4 指数和对数"
   ]
  },
  {
   "cell_type": "code",
   "execution_count": 43,
   "id": "fb9f1f9b",
   "metadata": {},
   "outputs": [
    {
     "name": "stdout",
     "output_type": "stream",
     "text": [
      "x =  [1, 2, 3]\n",
      "e^x =  [ 2.71828183  7.3890561  20.08553692]\n",
      "2^x =  [2. 4. 8.]\n",
      "3^x =  [ 3  9 27]\n"
     ]
    }
   ],
   "source": [
    "x = [1, 2, 3]\n",
    "print(\"x = \", x)\n",
    "print(\"e^x = \", np.exp(x))\n",
    "print(\"2^x = \", np.exp2(x))  # exp2得到的值为float\n",
    "print(\"3^x = \", np.power(3, x))  # power得到的值为int"
   ]
  },
  {
   "cell_type": "code",
   "execution_count": 45,
   "id": "59737f22",
   "metadata": {},
   "outputs": [
    {
     "name": "stdout",
     "output_type": "stream",
     "text": [
      "x =  [1, 2, 4, 10]\n",
      "ln(x) =  [0.         0.69314718 1.38629436 2.30258509]\n",
      "log2(x) =  [0.         1.         2.         3.32192809]\n",
      "log10(x) =  [0.         0.30103    0.60205999 1.        ]\n"
     ]
    }
   ],
   "source": [
    "x = [1, 2, 4, 10]\n",
    "print(\"x = \", x)\n",
    "print(\"ln(x) = \", np.log(x))\n",
    "print(\"log2(x) = \", np.log2(x))\n",
    "print(\"log10(x) = \", np.log10(x))"
   ]
  },
  {
   "cell_type": "markdown",
   "id": "a808a84e",
   "metadata": {},
   "source": [
    "### 3.5 专用的通用函数"
   ]
  },
  {
   "cell_type": "markdown",
   "id": "7e36ce22",
   "metadata": {},
   "source": [
    "**[1.见Numpy文档](https://numpy.org/doc/1.20/user/quickstart.html)**  \n",
    "**2.scipy.special类中包含大量高阶数学函数，如Gamma函数，相关函数，误差函数erf**"
   ]
  },
  {
   "cell_type": "markdown",
   "id": "0fd15353",
   "metadata": {},
   "source": [
    "## 4. 高级的通用函数特性"
   ]
  },
  {
   "cell_type": "markdown",
   "id": "8ed8bbe7",
   "metadata": {},
   "source": [
    "### 4.1 指定输出"
   ]
  },
  {
   "cell_type": "markdown",
   "id": "559a1782",
   "metadata": {},
   "source": [
    "**大量计算时，通常指定一个用于存放运算结果的数组**"
   ]
  },
  {
   "cell_type": "code",
   "execution_count": 52,
   "id": "72fcb9b5",
   "metadata": {},
   "outputs": [
    {
     "name": "stdout",
     "output_type": "stream",
     "text": [
      "[ 0. 10. 20. 30. 40.]\n"
     ]
    }
   ],
   "source": [
    "x = np.arange(5)\n",
    "y = np.empty(5)\n",
    "np.multiply(x, 10, out=y)\n",
    "print(y)"
   ]
  },
  {
   "cell_type": "markdown",
   "id": "fca8ee3e",
   "metadata": {},
   "source": [
    "将计算结果写入指定数组每隔一个元素的位置"
   ]
  },
  {
   "cell_type": "code",
   "execution_count": 53,
   "id": "2a63c5a8",
   "metadata": {},
   "outputs": [
    {
     "name": "stdout",
     "output_type": "stream",
     "text": [
      "[ 1.  0.  2.  0.  4.  0.  8.  0. 16.  0.]\n"
     ]
    }
   ],
   "source": [
    "y = np.zeros(10)\n",
    "np.power(2, x, out=y[::2])\n",
    "print(y)"
   ]
  },
  {
   "cell_type": "markdown",
   "id": "bd11c677",
   "metadata": {},
   "source": [
    "### 4.2 聚合"
   ]
  },
  {
   "cell_type": "markdown",
   "id": "4f660eb7",
   "metadata": {},
   "source": [
    "reduce方法会对给定元素和操作重复执行，直到得到单个结果"
   ]
  },
  {
   "cell_type": "code",
   "execution_count": 57,
   "id": "f62800e4",
   "metadata": {},
   "outputs": [
    {
     "name": "stdout",
     "output_type": "stream",
     "text": [
      "[1 2 3 4 5]\n"
     ]
    },
    {
     "data": {
      "text/plain": [
       "15"
      ]
     },
     "execution_count": 57,
     "metadata": {},
     "output_type": "execute_result"
    }
   ],
   "source": [
    "x = np.arange(1, 6)\n",
    "print(x)\n",
    "np.add.reduce(x)"
   ]
  },
  {
   "cell_type": "code",
   "execution_count": 58,
   "id": "c0cfba45",
   "metadata": {},
   "outputs": [
    {
     "name": "stdout",
     "output_type": "stream",
     "text": [
      "[1 2 3 4 5]\n"
     ]
    },
    {
     "data": {
      "text/plain": [
       "120"
      ]
     },
     "execution_count": 58,
     "metadata": {},
     "output_type": "execute_result"
    }
   ],
   "source": [
    "print(x)\n",
    "np.multiply.reduce(x)"
   ]
  },
  {
   "cell_type": "markdown",
   "id": "2eda8001",
   "metadata": {},
   "source": [
    "如果你需要存储每次计算的中间结果，用accumulate"
   ]
  },
  {
   "cell_type": "code",
   "execution_count": 59,
   "id": "f0684305",
   "metadata": {},
   "outputs": [
    {
     "data": {
      "text/plain": [
       "array([ 1,  3,  6, 10, 15])"
      ]
     },
     "execution_count": 59,
     "metadata": {},
     "output_type": "execute_result"
    }
   ],
   "source": [
    "np.add.accumulate(x)"
   ]
  },
  {
   "cell_type": "code",
   "execution_count": 60,
   "id": "8c2d13db",
   "metadata": {},
   "outputs": [
    {
     "data": {
      "text/plain": [
       "array([  1,   2,   6,  24, 120])"
      ]
     },
     "execution_count": 60,
     "metadata": {},
     "output_type": "execute_result"
    }
   ],
   "source": [
    "np.multiply.accumulate(x)"
   ]
  },
  {
   "cell_type": "markdown",
   "id": "32dfc823",
   "metadata": {},
   "source": [
    "### 4.3 外积"
   ]
  },
  {
   "cell_type": "markdown",
   "id": "9999cfb8",
   "metadata": {},
   "source": [
    "使用outer方法可以获得两个不同的输入数组所有元素对的函数运算结果  \n",
    "你可以用outer实现一个乘法表"
   ]
  },
  {
   "cell_type": "code",
   "execution_count": 62,
   "id": "43a59e96",
   "metadata": {
    "pycharm": {
     "name": "#%%\n"
    }
   },
   "outputs": [
    {
     "data": {
      "text/plain": [
       "array([[ 1,  2,  3,  4,  5],\n",
       "       [ 2,  4,  6,  8, 10],\n",
       "       [ 3,  6,  9, 12, 15],\n",
       "       [ 4,  8, 12, 16, 20],\n",
       "       [ 5, 10, 15, 20, 25]])"
      ]
     },
     "execution_count": 62,
     "metadata": {},
     "output_type": "execute_result"
    }
   ],
   "source": [
    "x = np.arange(1, 6)\n",
    "np.multiply.outer(x, x)"
   ]
  }
 ],
 "metadata": {
  "kernelspec": {
   "display_name": "Python 3",
   "language": "python",
   "name": "python3"
  },
  "language_info": {
   "codemirror_mode": {
    "name": "ipython",
    "version": 3
   },
   "file_extension": ".py",
   "mimetype": "text/x-python",
   "name": "python",
   "nbconvert_exporter": "python",
   "pygments_lexer": "ipython3",
   "version": "3.9.4"
  }
 },
 "nbformat": 4,
 "nbformat_minor": 5
}